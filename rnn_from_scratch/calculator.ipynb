{
 "cells": [
  {
   "cell_type": "code",
   "execution_count": null,
   "metadata": {},
   "outputs": [],
   "source": [
    "import torch\n",
    "from torch import nn\n",
    "import random\n",
    "\n",
    "from input_generator import get_input\n",
    "from model import RNNModel\n",
    "\n",
    "import numpy as np"
   ]
  },
  {
   "cell_type": "code",
   "execution_count": null,
   "metadata": {},
   "outputs": [],
   "source": [
    "device = torch.device('cuda') if torch.cuda.is_available() else torch.device('cpu')\n",
    "print(str(device) + ' will be used')"
   ]
  },
  {
   "cell_type": "code",
   "execution_count": null,
   "metadata": {},
   "outputs": [],
   "source": [
    "max_len_limit = 7 # must be an odd number\n",
    "n_input = 10000\n",
    "alphabet = ['0','1','2','3','4','5','6','7','8','9','-','+','/','*',' '] \n",
    "\n",
    "input_feature_num = len(alphabet)\n",
    "\n",
    "input_seq, target_values = get_input(n_input=n_input, max_len_limit=max_len_limit, max_digit=1, alphabet=alphabet)"
   ]
  },
  {
   "cell_type": "code",
   "execution_count": null,
   "metadata": {},
   "outputs": [],
   "source": [
    "model = RNNModel(input_feature_num=input_feature_num)\n",
    "model.to(device)"
   ]
  },
  {
   "cell_type": "code",
   "execution_count": null,
   "metadata": {},
   "outputs": [],
   "source": [
    "n_epochs = 10000\n",
    "lr=0.01\n",
    "\n",
    "loss_fn = nn.MSELoss()\n",
    "optimizer = torch.optim.Adam(model.parameters(), lr=lr)\n",
    "loss_fn = loss_fn.to(device)"
   ]
  },
  {
   "cell_type": "code",
   "execution_count": null,
   "metadata": {
    "scrolled": true
   },
   "outputs": [],
   "source": [
    "for epoch in range(1,n_epochs+1):\n",
    "    optimizer.zero_grad()\n",
    "    input_seq = input_seq.to(device)\n",
    "    output = model(input_seq)\n",
    "    loss = loss_fn(output, target_values)\n",
    "    loss.backward()\n",
    "    optimizer.step()\n",
    "    \n",
    "    if epoch%10 == 0:\n",
    "        print('Epoch: {}/{}.............'.format(epoch, n_epochs), end=' ')\n",
    "        print(\"Loss: {:.4f}\".format(loss.item()))"
   ]
  },
  {
   "cell_type": "code",
   "execution_count": null,
   "metadata": {},
   "outputs": [],
   "source": [
    "def predict(model, seq):\n",
    "    one_hot_input = create_input_seq(alphabet, max_len, [seq])\n",
    "    input_seq = torch.FloatTensor(one_hot_input).permute(1,0,2)\n",
    "    input_seq = input_seq.to(device)\n",
    "    output = model(input_seq)\n",
    "    return output"
   ]
  },
  {
   "cell_type": "code",
   "execution_count": null,
   "metadata": {},
   "outputs": [],
   "source": [
    "x = '5+3*2/1'\n",
    "y = '5-3+5-2'\n",
    "z = '2/3/5/7'\n",
    "r = '1+1+1+1'\n",
    "a = predict(model, x).data"
   ]
  }
 ],
 "metadata": {
  "kernelspec": {
   "display_name": "ml",
   "language": "python",
   "name": "ml"
  },
  "language_info": {
   "codemirror_mode": {
    "name": "ipython",
    "version": 3
   },
   "file_extension": ".py",
   "mimetype": "text/x-python",
   "name": "python",
   "nbconvert_exporter": "python",
   "pygments_lexer": "ipython3",
   "version": "3.7.3"
  }
 },
 "nbformat": 4,
 "nbformat_minor": 2
}

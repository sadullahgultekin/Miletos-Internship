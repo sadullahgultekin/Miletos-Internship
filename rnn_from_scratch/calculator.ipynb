{
 "cells": [
  {
   "cell_type": "code",
   "execution_count": 14,
   "metadata": {},
   "outputs": [],
   "source": [
    "import torch\n",
    "from torch import nn\n",
    "import random\n",
    "\n",
    "import numpy as np"
   ]
  },
  {
   "cell_type": "code",
   "execution_count": 143,
   "metadata": {},
   "outputs": [],
   "source": [
    "def number_sampler(max_digit=3):\n",
    "    digits = ['0','1','2','3','4','5','6','7','8','9']\n",
    "    k = random.randint(0,max_digit)\n",
    "    string = ''.join(random.sample(digits,k))\n",
    "    if string == '' or string[0] == '0':\n",
    "        return digit_sampler(max_digit=max_digit)\n",
    "    return string\n",
    "\n",
    "def operator_sampler():\n",
    "    operators = ['+','-','/','*']\n",
    "    return random.choice(operators)\n",
    "\n",
    "def get_random_input(n_input=100, max_len_limit=20, max_digit=3):\n",
    "    ret = []\n",
    "    for i in range(n_input):\n",
    "        length = random.randint(1,max_len_limit)\n",
    "        length = length+1 if length%2==1 else length\n",
    "        s = ''\n",
    "        for j in range(length+1):\n",
    "            if j % 2 == 0:\n",
    "                s += number_sampler(max_digit=max_digit)\n",
    "            else:\n",
    "                s += operator_sampler()\n",
    "        ret.append(s)\n",
    "    return ret"
   ]
  },
  {
   "cell_type": "code",
   "execution_count": 144,
   "metadata": {
    "scrolled": true
   },
   "outputs": [],
   "source": [
    "max_len=10\n",
    "alphabet = ['0','1','2','3','4','5','6','7','8','9','-','+','/','*'] \n",
    "input_sequence = get_random_input(n_input=1, max_len_limit=max_len, max_digit=3)"
   ]
  },
  {
   "cell_type": "code",
   "execution_count": 145,
   "metadata": {},
   "outputs": [],
   "source": [
    "def one_hot_encoding(alphabet, max_len):\n",
    "    x = np.zeros((len(alphabet),len(alphabet)),dtype=np.int32)\n",
    "    dict_ = {}\n",
    "    for i in range(x.shape[0]):\n",
    "        x[i,i] = 1\n",
    "        dict_[alphabet[i]] = x[i]\n",
    "    return dict_\n",
    "\n",
    "def create_input_seq(alphabet2encod, input_sequence):\n",
    "    ret = []\n",
    "    for i in range(len(input_sequence)):\n",
    "        print(input_sequence[i])\n",
    "        ret.append(alphabet2encod[input_sequence[i]])\n",
    "    return ret"
   ]
  },
  {
   "cell_type": "code",
   "execution_count": 146,
   "metadata": {},
   "outputs": [],
   "source": [
    "alphabet2encod = one_hot_encoding(alphabet, max_len)\n",
    "create_input_seq(alphabet2encod,input_sequence[0])"
   ]
  }
 ],
 "metadata": {
  "kernelspec": {
   "display_name": ".env",
   "language": "python",
   "name": ".env"
  },
  "language_info": {
   "codemirror_mode": {
    "name": "ipython",
    "version": 3
   },
   "file_extension": ".py",
   "mimetype": "text/x-python",
   "name": "python",
   "nbconvert_exporter": "python",
   "pygments_lexer": "ipython3",
   "version": "3.6.2"
  }
 },
 "nbformat": 4,
 "nbformat_minor": 2
}

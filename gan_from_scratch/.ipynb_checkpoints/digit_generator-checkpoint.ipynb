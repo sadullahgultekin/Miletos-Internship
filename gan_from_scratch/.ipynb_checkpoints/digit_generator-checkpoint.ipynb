{
 "cells": [
  {
   "cell_type": "code",
   "execution_count": 77,
   "metadata": {},
   "outputs": [],
   "source": [
    "import torch\n",
    "import torch.nn as nn\n",
    "import torch.optim as optim\n",
    "import torchvision.datasets as dset\n",
    "import torchvision.transforms as transforms\n",
    "\n",
    "import numpy as np"
   ]
  },
  {
   "cell_type": "code",
   "execution_count": 76,
   "metadata": {},
   "outputs": [],
   "source": [
    "device = 'cuda' if torch.cuda.is_available() else 'cpu'\n",
    "dtype = torch.float32\n",
    "\n",
    "trans = transforms.Compose([transforms.ToTensor()])\n",
    "\n",
    "train_dataset = dset.MNIST('./data', train=True, transform=trans, download=True)\n",
    "test_dataset = dset.MNIST('./data', train=False, transform=trans, download=True)"
   ]
  },
  {
   "cell_type": "code",
   "execution_count": 74,
   "metadata": {},
   "outputs": [],
   "source": [
    "batch_size = 64\n",
    "n_epochs = 10\n",
    "\n",
    "train_loader = torch.utils.data.DataLoader(train_dataset, batch_size=batch_size, pin_memory=True)\n",
    "test_loader = torch.utils.data.DataLoader(test_dataset, batch_size=batch_size, pin_memory=True)"
   ]
  },
  {
   "cell_type": "code",
   "execution_count": 75,
   "metadata": {},
   "outputs": [],
   "source": [
    "class GeneratorNet(nn.Module):\n",
    "    def __init__(self):\n",
    "        super().__init__()\n",
    "        self.model_name='Generator Network'\n",
    "        self.fc = nn.Linear(28*28*1, 28*28*1)\n",
    "        \n",
    "    def forward(self):\n",
    "        torch.rand\n",
    "        return self.fc(x.view(1,-1))\n",
    "\n",
    "class DiscriminatorNet(nn.Module):\n",
    "    def __init__(self):\n",
    "        super().__init__()\n",
    "        self.model_name='Discriminator Network'\n",
    "        self.fc = nn.Linear(28*28*1, 10)\n",
    "        \n",
    "    def forward(self,x):\n",
    "        return self.fc(x.view(1,-1))\n"
   ]
  },
  {
   "cell_type": "code",
   "execution_count": null,
   "metadata": {},
   "outputs": [],
   "source": [
    "generator_model = GeneratorNet()\n",
    "discriminator_model = DiscriminatorNet()\n",
    "\n",
    "generator_lr = 0.001\n",
    "discriminator_lr = 0.001\n",
    "\n",
    "generator_critarion = nn.CrossEntropyLoss()\n",
    "discriminator_critarion = nn.CrossEntropyLoss()\n",
    "\n",
    "generator_optimizer = optim.Adam(generator_model.parameters(), lr=generator_lr)\n",
    "discriminator_optimizer = optim.Adam(discriminator_model.parameters(), lr=discriminator_lr)\n",
    "\n",
    "generator_model.to(device)\n",
    "discriminator_model.to(device)\n",
    "\n",
    "generator_model.train()\n",
    "discriminator_model.train()\n",
    "\n",
    "for epoch in n_epochs:\n",
    "    for idx, (data, label) in enumerate(train_loader):\n",
    "        data, label = data.to(device, dtype=dtype), label.to(device, dtype=dtype)\n",
    "        \n",
    "        discriminator_optimizer.zero_grad()\n",
    "        real_data = data.type(dtype)\n",
    "        out_real = discriminator_model(real_data).type(dtype)\n",
    "\n",
    "        g_fake_input = sample_noise(batch_size, noise_size).type(dtype)\n",
    "        #fake_images = generator_model().detach()\n",
    "        fake_data = generator_model()\n",
    "        logits_fake = discriminator_model(fake_data.view(batch_size, 1, 28, 28))\n",
    "\n",
    "        d_total_error = discriminator_loss(logits_real, logits_fake)\n",
    "        d_total_error.backward()        \n",
    "        D_solver.step()\n",
    "\n",
    "        G_solver.zero_grad()\n",
    "        g_fake_seed = sample_noise(batch_size, noise_size).type(dtype)\n",
    "        fake_images = G(g_fake_seed)\n",
    "\n",
    "        gen_logits_fake = D(fake_images.view(batch_size, 1, 28, 28))\n",
    "        g_error = generator_loss(gen_logits_fake)\n",
    "        g_error.backward()\n",
    "        G_solver.step()\n",
    "        "
   ]
  }
 ],
 "metadata": {
  "kernelspec": {
   "display_name": ".env",
   "language": "python",
   "name": ".env"
  },
  "language_info": {
   "codemirror_mode": {
    "name": "ipython",
    "version": 3
   },
   "file_extension": ".py",
   "mimetype": "text/x-python",
   "name": "python",
   "nbconvert_exporter": "python",
   "pygments_lexer": "ipython3",
   "version": "3.6.2"
  }
 },
 "nbformat": 4,
 "nbformat_minor": 2
}

{
 "cells": [
  {
   "cell_type": "code",
   "execution_count": 1,
   "metadata": {},
   "outputs": [],
   "source": [
    "import torch\n",
    "import torch.nn as nn\n",
    "import torch.nn.functional as F\n",
    "import torch.optim as optim\n",
    "import torchvision.datasets as dset\n",
    "import torchvision.transforms as transforms\n",
    "\n",
    "from my_models import GeneratorNet, DiscriminatorNet\n",
    "from helper import generator_loss, discriminator_loss, show_images\n",
    "\n",
    "import matplotlib.pyplot as plt\n",
    "import matplotlib.gridspec as gridspec\n",
    "\n",
    "import numpy as np"
   ]
  },
  {
   "cell_type": "code",
   "execution_count": 2,
   "metadata": {},
   "outputs": [],
   "source": [
    "device = 'cuda' if torch.cuda.is_available() else 'cpu'\n",
    "dtype = torch.float32\n",
    "\n",
    "trans = transforms.Compose([transforms.ToTensor()])\n",
    "\n",
    "train_dataset = dset.MNIST('./data', train=True, transform=trans, download=True)"
   ]
  },
  {
   "cell_type": "code",
   "execution_count": 3,
   "metadata": {},
   "outputs": [],
   "source": [
    "batch_size = 64\n",
    "n_epochs = 10\n",
    "print_every = 100\n",
    "torch.manual_seed(13)\n",
    "\n",
    "train_loader = torch.utils.data.DataLoader(train_dataset, batch_size=batch_size, pin_memory=True)"
   ]
  },
  {
   "cell_type": "code",
   "execution_count": 4,
   "metadata": {},
   "outputs": [
    {
     "ename": "TypeError",
     "evalue": "__init__() missing 1 required positional argument: 'batch_size'",
     "output_type": "error",
     "traceback": [
      "\u001b[0;31m---------------------------------------------------------------------------\u001b[0m",
      "\u001b[0;31mTypeError\u001b[0m                                 Traceback (most recent call last)",
      "\u001b[0;32m<ipython-input-4-28996e16a507>\u001b[0m in \u001b[0;36m<module>\u001b[0;34m\u001b[0m\n\u001b[1;32m      1\u001b[0m \u001b[0mgenerator_model\u001b[0m \u001b[0;34m=\u001b[0m \u001b[0mGeneratorNet\u001b[0m\u001b[0;34m(\u001b[0m\u001b[0;36m2\u001b[0m\u001b[0;34m)\u001b[0m\u001b[0;34m\u001b[0m\u001b[0m\n\u001b[0;32m----> 2\u001b[0;31m \u001b[0mdiscriminator_model\u001b[0m \u001b[0;34m=\u001b[0m \u001b[0mDiscriminatorNet\u001b[0m\u001b[0;34m(\u001b[0m\u001b[0;34m)\u001b[0m\u001b[0;34m\u001b[0m\u001b[0m\n\u001b[0m",
      "\u001b[0;31mTypeError\u001b[0m: __init__() missing 1 required positional argument: 'batch_size'"
     ]
    }
   ],
   "source": [
    "generator_model = GeneratorNet(batch_size=batch_size)\n",
    "discriminator_model = DiscriminatorNet(batch_size=batch_size)"
   ]
  },
  {
   "cell_type": "code",
   "execution_count": null,
   "metadata": {},
   "outputs": [],
   "source": [
    "generator_optimizer = optim.Adam(generator_model.parameters(), lr=1e-3, betas=(0.5, 0.999))\n",
    "discriminator_optimizer = optim.Adam(discriminator_model.parameters(), lr=1e-3, betas=(0.5, 0.999))\n",
    "\n",
    "generator_model.to(device)\n",
    "discriminator_model.to(device)\n",
    "\n",
    "generator_model.train()\n",
    "discriminator_model.train()\n",
    "\n",
    "for epoch in range(1,n_epochs+1):\n",
    "    for idx, (data, _) in enumerate(train_loader):\n",
    "        data = data.to(device, dtype=dtype)\n",
    "        \n",
    "        discriminator_optimizer.zero_grad()\n",
    "        \n",
    "        out_real = discriminator_model(data)\n",
    "        \n",
    "        fake_data = generator_model()\n",
    "        out_fake = discriminator_model(fake_data.view(batch_size, 1, 28, 28))\n",
    "        \n",
    "        d_total_error = discriminator_loss(out_real, out_fake)\n",
    "        d_total_error.backward()        \n",
    "        discriminator_optimizer.step()\n",
    "        \n",
    "        generator_optimizer.zero_grad()\n",
    "\n",
    "        fake_data = generator_model()\n",
    "        out_fake = discriminator_model(fake_data.view(batch_size, 1, 28, 28))\n",
    "        \n",
    "        g_error = generator_loss(out_fake)\n",
    "        g_error.backward()\n",
    "        generator_optimizer.step()\n",
    "        \n",
    "        if idx % print_every == 0:\n",
    "            print('Iter: {}, D: {:.4}, G:{:.4}'.format(idx,d_total_error.item(),g_error.item()))\n",
    "            imgs_numpy = fake_data.data.cpu().numpy().reshape(batch_size,-1)\n",
    "            show_images(imgs_numpy[0:16])\n",
    "            plt.show()\n",
    "            print()\n",
    "        "
   ]
  },
  {
   "cell_type": "code",
   "execution_count": null,
   "metadata": {},
   "outputs": [],
   "source": []
  }
 ],
 "metadata": {
  "kernelspec": {
   "display_name": ".env",
   "language": "python",
   "name": ".env"
  },
  "language_info": {
   "codemirror_mode": {
    "name": "ipython",
    "version": 3
   },
   "file_extension": ".py",
   "mimetype": "text/x-python",
   "name": "python",
   "nbconvert_exporter": "python",
   "pygments_lexer": "ipython3",
   "version": "3.6.2"
  }
 },
 "nbformat": 4,
 "nbformat_minor": 2
}

{
 "cells": [
  {
   "cell_type": "code",
   "execution_count": 8,
   "metadata": {},
   "outputs": [],
   "source": [
    "import os\n",
    "\n",
    "import cv2\n",
    "import numpy as np"
   ]
  },
  {
   "cell_type": "code",
   "execution_count": 31,
   "metadata": {},
   "outputs": [],
   "source": [
    "def filter_images(file_path, lower_bound, upper_bound, is_line_image):\n",
    "    files = os.listdir(file_path)\n",
    "    true_sized_line_imgs = []\n",
    "    for file in files:\n",
    "        img = cv2.imread(os.path.join(file_path, file))\n",
    "        aspect_ratio = img.shape[1] / img.shape[0]\n",
    "        if aspect_ratio < upper_bound and aspect_ratio > lower_bound:\n",
    "            true_sized_line_imgs.append(file)\n",
    "    out_file_name = \"line_img_names.txt\" if is_line_image else \"hw_img_names.txt\"\n",
    "    with open(out_file_name,\"w+\") as f:\n",
    "        for img_name in true_sized_line_imgs:\n",
    "            f.write(img_name + '\\n')"
   ]
  },
  {
   "cell_type": "code",
   "execution_count": 34,
   "metadata": {},
   "outputs": [],
   "source": [
    "line_file_path = \"/home/sadullah/line-type-classification/data/processed/line\"\n",
    "hw_file_path = \"/home/sadullah/line-type-classification/data/processed/hwline\"\n",
    "\n",
    "filter_images(line_file_path, 0, 1000, is_line_image=True)\n",
    "filter_images(hw_file_path, 0, 1000, is_line_image=False)"
   ]
  },
  {
   "cell_type": "code",
   "execution_count": null,
   "metadata": {},
   "outputs": [],
   "source": []
  }
 ],
 "metadata": {
  "kernelspec": {
   "display_name": "ml",
   "language": "python",
   "name": "ml"
  },
  "language_info": {
   "codemirror_mode": {
    "name": "ipython",
    "version": 3
   },
   "file_extension": ".py",
   "mimetype": "text/x-python",
   "name": "python",
   "nbconvert_exporter": "python",
   "pygments_lexer": "ipython3",
   "version": "3.7.3"
  }
 },
 "nbformat": 4,
 "nbformat_minor": 2
}
